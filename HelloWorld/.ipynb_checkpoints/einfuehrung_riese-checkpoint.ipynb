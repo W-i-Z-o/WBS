{
 "cells": [
  {
   "cell_type": "code",
   "execution_count": 1,
   "metadata": {},
   "outputs": [
    {
     "name": "stdout",
     "output_type": "stream",
     "text": [
      "Mit 'print' kann man Informationen auf der Konsole ausgeben.\n"
     ]
    }
   ],
   "source": [
    "print(\"Mit 'print' kann man Informationen auf der Konsole ausgeben.\")"
   ]
  },
  {
   "cell_type": "code",
   "execution_count": 2,
   "metadata": {},
   "outputs": [
    {
     "name": "stdout",
     "output_type": "stream",
     "text": [
      "Ein String 1 0.58\n"
     ]
    }
   ],
   "source": [
    "print(\"Ein String\", 1, 0.58)"
   ]
  },
  {
   "cell_type": "code",
   "execution_count": 3,
   "metadata": {},
   "outputs": [
    {
     "name": "stdout",
     "output_type": "stream",
     "text": [
      "3.141\n",
      "<class 'float'>\n",
      "3\n",
      "True\n"
     ]
    }
   ],
   "source": [
    "var_string = \"blablabla\"\n",
    "var_number = 42 #integer\n",
    "var_number = 3.141 #double\n",
    "var_bool = True\n",
    "\n",
    "print(var_number)\n",
    "print(type(var_number))\n",
    "print(int(var_number))\n",
    "print(var_bool)"
   ]
  },
  {
   "cell_type": "code",
   "execution_count": 4,
   "metadata": {},
   "outputs": [
    {
     "ename": "ValueError",
     "evalue": "could not convert string to float: 'blablabla'",
     "output_type": "error",
     "traceback": [
      "\u001b[1;31m---------------------------------------------------------------------------\u001b[0m",
      "\u001b[1;31mValueError\u001b[0m                                Traceback (most recent call last)",
      "\u001b[1;32m<ipython-input-4-003cfb30d955>\u001b[0m in \u001b[0;36m<module>\u001b[1;34m()\u001b[0m\n\u001b[1;32m----> 1\u001b[1;33m \u001b[0mprint\u001b[0m\u001b[1;33m(\u001b[0m\u001b[0mfloat\u001b[0m\u001b[1;33m(\u001b[0m\u001b[0mvar_string\u001b[0m\u001b[1;33m)\u001b[0m\u001b[1;33m)\u001b[0m\u001b[1;33m\u001b[0m\u001b[0m\n\u001b[0m",
      "\u001b[1;31mValueError\u001b[0m: could not convert string to float: 'blablabla'"
     ]
    }
   ],
   "source": [
    "print(float(var_string))"
   ]
  },
  {
   "cell_type": "code",
   "execution_count": 9,
   "metadata": {},
   "outputs": [
    {
     "name": "stdout",
     "output_type": "stream",
     "text": [
      "Alte Ausgabe von Variablen, z.B. Floats 3.14.\n"
     ]
    }
   ],
   "source": [
    "print(\"Alte Ausgabe von %s, z.B. Floats %.2f.\" % (\"Variablen\", 3.141))"
   ]
  },
  {
   "cell_type": "code",
   "execution_count": 11,
   "metadata": {},
   "outputs": [
    {
     "name": "stdout",
     "output_type": "stream",
     "text": [
      "Name                    Größe  Alter  \n",
      "-------------------------------------\n"
     ]
    }
   ],
   "source": [
    "print(\"{0:<20} {1:>8} {2:^8}\".format(\"Name\", \"Größe\", \"Alter\"))\n",
    "print(\"-\"*37)"
   ]
  },
  {
   "cell_type": "code",
   "execution_count": 14,
   "metadata": {},
   "outputs": [
    {
     "name": "stdout",
     "output_type": "stream",
     "text": [
      "hallo\n",
      "['i', 'bims']\n",
      "1 liste\n",
      "4\n"
     ]
    }
   ],
   "source": [
    "example_list = [\"hallo\", \"i\", \"bims\", \"1 liste\"]\n",
    "print(example_list[0])   #element x\n",
    "print(example_list[1:3]) #element 1 und 2\n",
    "print(example_list[-1])  #letztes element\n",
    "print(len(example_list)) #länge der liste"
   ]
  },
  {
   "cell_type": "code",
   "execution_count": 16,
   "metadata": {},
   "outputs": [
    {
     "name": "stdout",
     "output_type": "stream",
     "text": [
      "['test', 'test', 3.141, False]\n",
      "['test', 'test', 3.141, False, 42]\n",
      "['test', ['hallo', 'i', 'bims', '1 liste'], 'test', 3.141, False, 42]\n",
      "[['hallo', 'i', 'bims', '1 liste'], 'test', 3.141, False, 42]\n",
      "[['hallo', 'i', 'bims', '1 liste'], 'test', 3.141, False]\n",
      "['eine', 'test', 3.141, False]\n"
     ]
    }
   ],
   "source": [
    "my_list = [\"test\", \"test\", 3.141, False]  #typen mischbar\n",
    "print(my_list)\n",
    "\n",
    "my_list.append(42)\n",
    "print(my_list)\n",
    "\n",
    "my_list.insert(1, [\"hallo\", \"i\", \"bims\", \"1 liste\"])\n",
    "print(my_list)\n",
    "\n",
    "my_list.remove(\"test\") #löscht erstes passendes element\n",
    "print(my_list)\n",
    "\n",
    "del my_list[-1] #löscht letztes element\n",
    "print(my_list)\n",
    "\n",
    "my_list[0] = \"eine\"\n",
    "print(my_list)"
   ]
  },
  {
   "cell_type": "code",
   "execution_count": 17,
   "metadata": {},
   "outputs": [
    {
     "name": "stdout",
     "output_type": "stream",
     "text": [
      "('one', 'two three', 'four')\n",
      "two three\n"
     ]
    }
   ],
   "source": [
    "#tuple wie listen, aber nicht veränderbar\n",
    "my_tuple = (\"one\", \"two three\", \"four\")\n",
    "print(my_tuple)\n",
    "print(my_tuple[1])"
   ]
  },
  {
   "cell_type": "code",
   "execution_count": 20,
   "metadata": {},
   "outputs": [
    {
     "name": "stdout",
     "output_type": "stream",
     "text": [
      "Auto\n"
     ]
    }
   ],
   "source": [
    "#Dictionaries\n",
    "english_german = {\"hello\": \"hallo\",\n",
    "                  \"day\": \"Tag\",\n",
    "                  \"car\": \"Auto\"}\n",
    "print(english_german[\"car\"])"
   ]
  },
  {
   "cell_type": "code",
   "execution_count": 22,
   "metadata": {},
   "outputs": [
    {
     "name": "stdout",
     "output_type": "stream",
     "text": [
      "{1, 2, 3, 42}\n",
      "frozenset({1, 2})\n"
     ]
    }
   ],
   "source": [
    "my_set = set([1,1,1,2,2,3,42,3,3])\n",
    "print(my_set)\n",
    "\n",
    "my_fset = frozenset([1,2,1]) #unveränderbar\n",
    "print(my_fset)"
   ]
  },
  {
   "cell_type": "code",
   "execution_count": 24,
   "metadata": {},
   "outputs": [
    {
     "name": "stdout",
     "output_type": "stream",
     "text": [
      "-5\n"
     ]
    }
   ],
   "source": [
    "def my_function(par1, par2):\n",
    "    result = par1 - par2\n",
    "    return result\n",
    "\n",
    "print(my_function(4,9))"
   ]
  },
  {
   "cell_type": "code",
   "execution_count": 25,
   "metadata": {},
   "outputs": [
    {
     "name": "stdout",
     "output_type": "stream",
     "text": [
      "5\n"
     ]
    }
   ],
   "source": [
    "def another_function(par1, par2=0):\n",
    "    return par1 + par2\n",
    "print(another_function(5)) #parameter mit default müssen nicht übergeben werden"
   ]
  },
  {
   "cell_type": "code",
   "execution_count": 29,
   "metadata": {},
   "outputs": [
    {
     "name": "stdout",
     "output_type": "stream",
     "text": [
      "Mindestens 10.\n"
     ]
    }
   ],
   "source": [
    "var = 10\n",
    "\n",
    "if type(var) != int:\n",
    "    print(\"Keine ganze Zahl.\")\n",
    "elif var < 5:\n",
    "    print(\"Kleiner als 5.\")\n",
    "elif var < 10:\n",
    "    print(\"Kleiner als 10.\")\n",
    "else:\n",
    "    print(\"Mindestens 10.\")"
   ]
  },
  {
   "cell_type": "code",
   "execution_count": 31,
   "metadata": {},
   "outputs": [
    {
     "name": "stdout",
     "output_type": "stream",
     "text": [
      "5\n",
      "4\n",
      "3\n",
      "2\n"
     ]
    }
   ],
   "source": [
    "var = 5\n",
    "while var > 1:\n",
    "    print(var)\n",
    "    var -= 1\n",
    "    \n",
    "    #schleife verlassen mit: break\n",
    "    #aktuellen durchlauf beenden: continue"
   ]
  },
  {
   "cell_type": "code",
   "execution_count": 32,
   "metadata": {},
   "outputs": [
    {
     "name": "stdout",
     "output_type": "stream",
     "text": [
      "0\n",
      "1\n",
      "2\n",
      "3\n",
      "4\n"
     ]
    }
   ],
   "source": [
    "for i in range(5):\n",
    "    print(i)\n",
    "    "
   ]
  },
  {
   "cell_type": "code",
   "execution_count": 34,
   "metadata": {},
   "outputs": [
    {
     "name": "stdout",
     "output_type": "stream",
     "text": [
      "A\n",
      "B\n",
      "Z\n"
     ]
    }
   ],
   "source": [
    "for x in [\"A\",\"B\",\"Z\"]:\n",
    "    print(x)"
   ]
  },
  {
   "cell_type": "code",
   "execution_count": 37,
   "metadata": {},
   "outputs": [
    {
     "name": "stdout",
     "output_type": "stream",
     "text": [
      "0 A\n",
      "1 B\n",
      "2 Z\n"
     ]
    }
   ],
   "source": [
    "for j,x in enumerate([\"A\",\"B\",\"Z\"]):\n",
    "    print(j,x)"
   ]
  },
  {
   "cell_type": "code",
   "execution_count": 39,
   "metadata": {},
   "outputs": [
    {
     "name": "stdout",
     "output_type": "stream",
     "text": [
      "[0, 1, 4, 9, 16, 25, 36, 49, 64, 81]\n"
     ]
    }
   ],
   "source": [
    "# ** für potenz\n",
    "\n",
    "square_numbers = [i**2 for i in range(10)]\n",
    "print(square_numbers)"
   ]
  },
  {
   "cell_type": "code",
   "execution_count": 43,
   "metadata": {},
   "outputs": [
    {
     "name": "stdout",
     "output_type": "stream",
     "text": [
      "(2.0, -1.0)\n",
      "(3.0, 1.0)\n",
      "(5.0, 0.0)\n",
      "<bound method Vektor.norm_squared of <__main__.Vektor object at 0x000001E8C4FF7470>>\n"
     ]
    }
   ],
   "source": [
    "class Vektor:\n",
    "    def __init__(self,x=0,y=0):\n",
    "        self.x = float(x)\n",
    "        self.y = float(y)\n",
    "        \n",
    "    def __str__(self):\n",
    "        return \"({0}, {1})\".format(self.x, self.y)\n",
    "    \n",
    "    def __add__(self, other):\n",
    "        return Vektor(self.x + other.x, self.y + other.y)\n",
    "    \n",
    "    def norm_squared(self):\n",
    "        return self.x**2 + self.y**2\n",
    "    \n",
    "vector1 = Vektor(2,-1)\n",
    "vector2 = Vektor(3,1)\n",
    "\n",
    "print(vector1)\n",
    "print(vector2)\n",
    "print(vector1 + vector2)\n",
    "print(vector1.norm_squared)"
   ]
  },
  {
   "cell_type": "code",
   "execution_count": 44,
   "metadata": {},
   "outputs": [
    {
     "ename": "NameError",
     "evalue": "name 'np' is not defined",
     "output_type": "error",
     "traceback": [
      "\u001b[1;31m---------------------------------------------------------------------------\u001b[0m",
      "\u001b[1;31mNameError\u001b[0m                                 Traceback (most recent call last)",
      "\u001b[1;32m<ipython-input-44-b32f8aa60ffa>\u001b[0m in \u001b[0;36m<module>\u001b[1;34m()\u001b[0m\n\u001b[0;32m      1\u001b[0m \u001b[1;31m#seed\u001b[0m\u001b[1;33m\u001b[0m\u001b[1;33m\u001b[0m\u001b[0m\n\u001b[1;32m----> 2\u001b[1;33m \u001b[0mnp\u001b[0m\u001b[1;33m.\u001b[0m\u001b[0mrandom\u001b[0m\u001b[1;33m.\u001b[0m\u001b[0mseed\u001b[0m\u001b[1;33m(\u001b[0m\u001b[1;36m1\u001b[0m\u001b[1;33m)\u001b[0m\u001b[1;33m\u001b[0m\u001b[0m\n\u001b[0m\u001b[0;32m      3\u001b[0m \u001b[1;33m\u001b[0m\u001b[0m\n\u001b[0;32m      4\u001b[0m \u001b[1;31m# 5 standardverteilte zufallszahlen\u001b[0m\u001b[1;33m\u001b[0m\u001b[1;33m\u001b[0m\u001b[0m\n",
      "\u001b[1;31mNameError\u001b[0m: name 'np' is not defined"
     ]
    }
   ],
   "source": [
    "import numpy as np\n",
    "\n",
    "ndim_array = np.random.randint(0, 100, 16).reshape((4,4))\n",
    "print(ndim_array, \"\")"
   ]
  },
  {
   "cell_type": "code",
   "execution_count": null,
   "metadata": {
    "collapsed": true
   },
   "outputs": [],
   "source": []
  }
 ],
 "metadata": {
  "kernelspec": {
   "display_name": "Python 3",
   "language": "python",
   "name": "python3"
  },
  "language_info": {
   "codemirror_mode": {
    "name": "ipython",
    "version": 3
   },
   "file_extension": ".py",
   "mimetype": "text/x-python",
   "name": "python",
   "nbconvert_exporter": "python",
   "pygments_lexer": "ipython3",
   "version": "3.6.3"
  }
 },
 "nbformat": 4,
 "nbformat_minor": 2
}
