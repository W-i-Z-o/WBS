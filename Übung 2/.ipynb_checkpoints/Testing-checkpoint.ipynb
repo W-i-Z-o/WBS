{
 "cells": [
  {
   "cell_type": "code",
   "execution_count": 1,
   "metadata": {},
   "outputs": [],
   "source": [
    "import numpy as np\n",
    "import h5py\n",
    "import pandas as pd\n",
    "\n",
    "datadict = {}\n",
    "with h5py.File(\"EnMAP_Contest_Data.mat\", 'r') as f:\n",
    "    for k, v in f.items():\n",
    "        datadict[k] = np.array(v)"
   ]
  },
  {
   "cell_type": "code",
   "execution_count": 28,
   "metadata": {},
   "outputs": [],
   "source": [
    "import numpy as np\n",
    "\n",
    "class MySOM:\n",
    "    def __init__(self, datadict, label, nRows, nColumns):\n",
    "        #init here\n",
    "        self.datadict = datadict\n",
    "        self.label = label\n",
    "        self.nRows = nRows\n",
    "        self.nColumns = nColumns\n",
    "\n",
    "    def __str__(self):\n",
    "        #toString()\n",
    "        return \"label: {0}, dimension: ({1} {2})\".format(self.label, self.nRows, self.nColumns)\n",
    "\n",
    "    def initializeNeurons(self):\n",
    "        self.neurons = np.random.uniform(size=(self.nColumns, self.nRows, 244))\n",
    "        \n",
    "    def toPixelsArray(self, field):\n",
    "        pixels = []\n",
    "        for i in range(len(self.datadict[field][0])):\n",
    "            features = [row[i] for row in datadict[field]]\n",
    "            pixels.append(features)\n",
    "        return pixels"
   ]
  },
  {
   "cell_type": "code",
   "execution_count": 31,
   "metadata": {
    "scrolled": false
   },
   "outputs": [
    {
     "name": "stdout",
     "output_type": "stream",
     "text": [
      "[[0.0, 0.0, 0.15686274509803921], [0.0078431372549019607, 0.0, 0.47843137254901963], [0.011764705882352941, 0.0, 0.92941176470588238], [0.42745098039215684, 0.41176470588235292, 1.0], [0.0, 0.25882352941176473, 0.20784313725490197], [0.0039215686274509803, 0.27843137254901962, 0.0], [0.0, 0.72549019607843135, 0.0], [0.074509803921568626, 1.0, 0.074509803921568626], [0.75686274509803919, 0.039215686274509803, 0.0], [0.13333333333333333, 0.21568627450980393, 0.0], [0.40784313725490196, 0.49019607843137253, 0.0], [0.57647058823529407, 1.0, 0.396078431372549], [0.85882352941176465, 0.0, 0.46274509803921571], [0.6470588235294118, 0.6470588235294118, 0.6470588235294118], [0.99607843137254903, 0.99607843137254903, 0.39215686274509803], [0.20000000000000001, 0.039215686274509803, 0.0], [0.34901960784313724, 0.12941176470588237, 0.0], [0.4823529411764706, 0.2627450980392157, 0.0], [0.65098039215686276, 0.4823529411764706, 0.0], [0.29019607843137257, 0.24705882352941178, 0.0], [0.29019607843137257, 0.24705882352941178, 0.0]]\n"
     ]
    }
   ],
   "source": [
    "data = MySOM(datadict, \"\", 100, 100)\n",
    "data.initializeNeurons()"
   ]
  },
  {
   "cell_type": "code",
   "execution_count": null,
   "metadata": {},
   "outputs": [],
   "source": []
  }
 ],
 "metadata": {
  "kernelspec": {
   "display_name": "Python 3",
   "language": "python",
   "name": "python3"
  },
  "language_info": {
   "codemirror_mode": {
    "name": "ipython",
    "version": 3
   },
   "file_extension": ".py",
   "mimetype": "text/x-python",
   "name": "python",
   "nbconvert_exporter": "python",
   "pygments_lexer": "ipython3",
   "version": "3.6.3"
  }
 },
 "nbformat": 4,
 "nbformat_minor": 2
}
