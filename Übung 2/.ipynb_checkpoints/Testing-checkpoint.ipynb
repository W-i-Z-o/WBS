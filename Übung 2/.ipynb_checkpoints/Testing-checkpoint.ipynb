{
 "cells": [
  {
   "cell_type": "code",
   "execution_count": 1,
   "metadata": {
    "collapsed": true
   },
   "outputs": [],
   "source": [
    "import numpy as np\n",
    "import h5py\n",
    "import pandas as pd\n",
    "\n",
    "datadict = {}\n",
    "with h5py.File(\"EnMAP_Contest_Data.mat\", 'r') as f:\n",
    "    for k, v in f.items():\n",
    "        datadict[k] = np.array(v)"
   ]
  },
  {
   "cell_type": "code",
   "execution_count": 231,
   "metadata": {},
   "outputs": [],
   "source": [
    "import numpy as np\n",
    "import math\n",
    "\n",
    "class MySOM:\n",
    "    def __init__(self, datadict, label, nRows, nColumns, iteration, radius, learnrate):\n",
    "        #init here\n",
    "        self.datadict = datadict\n",
    "        self.label = label\n",
    "        self.nRows = nRows\n",
    "        self.nColumns = nColumns\n",
    "        self.radius_max = radius\n",
    "        self.iteration_max = iteration - 1\n",
    "        self.learnrate_max = learnrate\n",
    "\n",
    "    def __str__(self):\n",
    "        #toString()\n",
    "        return \"label: {0}, dimension: ({1} {2})\".format(self.label, self.nRows, self.nColumns)\n",
    "\n",
    "    def initializeNeurons(self):\n",
    "        self.neurons = np.random.uniform(size=(self.nColumns, self.nRows, 244))\n",
    "        self.labels = np.empty((self.nColumns, self.nRows), dtype=int)\n",
    "        for i in range(len(self.labels)):\n",
    "            for j in range(len(self.labels[0])):\n",
    "                self.labels[i][j] = -1\n",
    "        \n",
    "        \n",
    "    def toPixelsArray(self, field):\n",
    "        pixels = []\n",
    "        for i in range(len(self.datadict[field][0])):\n",
    "            features = [row[i] for row in datadict[field]]\n",
    "            pixels.append(features)\n",
    "        return pixels\n",
    "    \n",
    "    def calculateVectorDistance(self, v1, v2):\n",
    "        return np.linalg.norm(np.array(v1)-np.array(v2))\n",
    "    \n",
    "    def findBMU(self, point):\n",
    "        bestX = 0\n",
    "        bestY = 0\n",
    "        bestDist = 10000000\n",
    "        for x in range(len(self.neurons)):\n",
    "            for y in range(len(self.neurons[0])):\n",
    "                dist = self.calculateVectorDistance(point, self.neurons[x][y])\n",
    "                if(dist < bestDist):\n",
    "                    bestDist = dist\n",
    "                    bestX = x\n",
    "                    bestY = y\n",
    "        return [bestX, bestY]\n",
    "    \n",
    "    def adaptNeighbours(self, bmuCoord, point, label, iteration):\n",
    "        radius = self.radius_max * (1 - (iteration/self.iteration_max))\n",
    "        for i in range(int(radius)):\n",
    "            height = int(math.sqrt(radius**2 - i**2))\n",
    "            for j in range(height):\n",
    "                self.adaptNeuron(bmuCoord, [i + bmuCoord[0], j + bmuCoord[1]], point, label, iteration)\n",
    "                if i!=0:\n",
    "                    self.adaptNeuron(bmuCoord, [-i + bmuCoord[0], j + bmuCoord[1]], point, label, iteration)\n",
    "                if j!=0:\n",
    "                    self.adaptNeuron(bmuCoord, [i + bmuCoord[0], -j + bmuCoord[1]], point, label, iteration)\n",
    "                if i!=0 and j!=0:\n",
    "                    self.adaptNeuron(bmuCoord, [-i + bmuCoord[0], -j + bmuCoord[1]], point, label, iteration)\n",
    "            \n",
    "        \n",
    "    def adaptNeuron(self, bmuCoord, neuronCoord, point, label, iteration):\n",
    "        if neuronCoord[0]>=0 and neuronCoord[0] < self.nRows and neuronCoord[1]>=0 and neuronCoord[1] < self.nColumns:\n",
    "            neuron = self.neurons[neuronCoord[0]][neuronCoord[1]]\n",
    "            learnrate = self.learnrate_max * (1 - (iteration/self.iteration_max))\n",
    "            radius = self.radius_max * (1 - (iteration/self.iteration_max))\n",
    "            zaehler = self.calculateVectorDistance(bmuCoord, neuronCoord)**2\n",
    "            nenner = 2 * radius**2\n",
    "            neighbour = np.exp(-(zaehler/nenner))\n",
    "            #print(label)\n",
    "            #print(neuronCoord)\n",
    "            self.labels[neuronCoord[0]][neuronCoord[1]] = label\n",
    "        \n",
    "            for i in range(len(neuron)):\n",
    "                neuron[i] = neuron[i] + learnrate * neighbour * (point[i] - neuron[i])\n",
    "    \n",
    "    def learnPoint(self, point, label, iteration):\n",
    "        bmuCoord = self.findBMU(point)\n",
    "        self.adaptNeighbours(bmuCoord, point, label, iteration)\n",
    "        \n",
    "    def fit(self, data, labels):\n",
    "        for i in range(self.iteration_max):\n",
    "            rand = np.random.randint(len(data))\n",
    "            point = data[rand]\n",
    "            label = labels[rand][0]\n",
    "            self.learnPoint(point, label, i)\n",
    "            if i%10 == 0: \n",
    "               print(\"Iteration {0} finished\".format(i))\n",
    "            \n",
    "    def getLabels(self):\n",
    "        return self.labels\n",
    "    \n",
    "    def predict(self, testData):\n",
    "        result = []\n",
    "        for i in range(len(testData)):\n",
    "            bmuCoord = self.findBMU(testData[i])\n",
    "            result.append(self.labels[bmuCoord[0]][bmuCoord[1]])\n",
    "            if i%10 == 0: \n",
    "               print(\"Prediction {0} finished\".format(i))\n",
    "        return result"
   ]
  },
  {
   "cell_type": "code",
   "execution_count": 232,
   "metadata": {
    "scrolled": false
   },
   "outputs": [],
   "source": [
    "data = MySOM(datadict, \"\",20, 20, 1000, 20, 1)\n",
    "data.initializeNeurons()"
   ]
  },
  {
   "cell_type": "code",
   "execution_count": 233,
   "metadata": {},
   "outputs": [
    {
     "ename": "NameError",
     "evalue": "name 'numpy' is not defined",
     "output_type": "error",
     "traceback": [
      "\u001b[1;31m---------------------------------------------------------------------------\u001b[0m",
      "\u001b[1;31mNameError\u001b[0m                                 Traceback (most recent call last)",
      "\u001b[1;32m<ipython-input-233-9b536220d776>\u001b[0m in \u001b[0;36m<module>\u001b[1;34m()\u001b[0m\n\u001b[0;32m      1\u001b[0m \u001b[0mtrainData\u001b[0m \u001b[1;33m=\u001b[0m \u001b[0mdata\u001b[0m\u001b[1;33m.\u001b[0m\u001b[0mtoPixelsArray\u001b[0m\u001b[1;33m(\u001b[0m\u001b[1;34m\"xi\"\u001b[0m\u001b[1;33m)\u001b[0m\u001b[1;33m\u001b[0m\u001b[0m\n\u001b[0;32m      2\u001b[0m \u001b[0mtrainLabels\u001b[0m \u001b[1;33m=\u001b[0m \u001b[0mdata\u001b[0m\u001b[1;33m.\u001b[0m\u001b[0mtoPixelsArray\u001b[0m\u001b[1;33m(\u001b[0m\u001b[1;34m\"lx\"\u001b[0m\u001b[1;33m)\u001b[0m\u001b[1;33m\u001b[0m\u001b[0m\n\u001b[1;32m----> 3\u001b[1;33m \u001b[0mdata\u001b[0m\u001b[1;33m.\u001b[0m\u001b[0mfit\u001b[0m\u001b[1;33m(\u001b[0m\u001b[0mtrainData\u001b[0m\u001b[1;33m,\u001b[0m \u001b[0mtrainLabels\u001b[0m\u001b[1;33m)\u001b[0m\u001b[1;33m\u001b[0m\u001b[0m\n\u001b[0m",
      "\u001b[1;32m<ipython-input-231-caae8293f26c>\u001b[0m in \u001b[0;36mfit\u001b[1;34m(self, data, labels)\u001b[0m\n\u001b[0;32m     86\u001b[0m             \u001b[0mpoint\u001b[0m \u001b[1;33m=\u001b[0m \u001b[0mdata\u001b[0m\u001b[1;33m[\u001b[0m\u001b[0mrand\u001b[0m\u001b[1;33m]\u001b[0m\u001b[1;33m\u001b[0m\u001b[0m\n\u001b[0;32m     87\u001b[0m             \u001b[0mlabel\u001b[0m \u001b[1;33m=\u001b[0m \u001b[0mlabels\u001b[0m\u001b[1;33m[\u001b[0m\u001b[0mrand\u001b[0m\u001b[1;33m]\u001b[0m\u001b[1;33m[\u001b[0m\u001b[1;36m0\u001b[0m\u001b[1;33m]\u001b[0m\u001b[1;33m\u001b[0m\u001b[0m\n\u001b[1;32m---> 88\u001b[1;33m             \u001b[0mself\u001b[0m\u001b[1;33m.\u001b[0m\u001b[0mlearnPoint\u001b[0m\u001b[1;33m(\u001b[0m\u001b[0mpoint\u001b[0m\u001b[1;33m,\u001b[0m \u001b[0mlabel\u001b[0m\u001b[1;33m,\u001b[0m \u001b[0mi\u001b[0m\u001b[1;33m)\u001b[0m\u001b[1;33m\u001b[0m\u001b[0m\n\u001b[0m\u001b[0;32m     89\u001b[0m             \u001b[1;32mif\u001b[0m \u001b[0mi\u001b[0m\u001b[1;33m%\u001b[0m\u001b[1;36m10\u001b[0m \u001b[1;33m==\u001b[0m \u001b[1;36m0\u001b[0m\u001b[1;33m:\u001b[0m\u001b[1;33m\u001b[0m\u001b[0m\n\u001b[0;32m     90\u001b[0m                \u001b[0mprint\u001b[0m\u001b[1;33m(\u001b[0m\u001b[1;34m\"Iteration {0} finished\"\u001b[0m\u001b[1;33m.\u001b[0m\u001b[0mformat\u001b[0m\u001b[1;33m(\u001b[0m\u001b[0mi\u001b[0m\u001b[1;33m)\u001b[0m\u001b[1;33m)\u001b[0m\u001b[1;33m\u001b[0m\u001b[0m\n",
      "\u001b[1;32m<ipython-input-231-caae8293f26c>\u001b[0m in \u001b[0;36mlearnPoint\u001b[1;34m(self, point, label, iteration)\u001b[0m\n\u001b[0;32m     78\u001b[0m \u001b[1;33m\u001b[0m\u001b[0m\n\u001b[0;32m     79\u001b[0m     \u001b[1;32mdef\u001b[0m \u001b[0mlearnPoint\u001b[0m\u001b[1;33m(\u001b[0m\u001b[0mself\u001b[0m\u001b[1;33m,\u001b[0m \u001b[0mpoint\u001b[0m\u001b[1;33m,\u001b[0m \u001b[0mlabel\u001b[0m\u001b[1;33m,\u001b[0m \u001b[0miteration\u001b[0m\u001b[1;33m)\u001b[0m\u001b[1;33m:\u001b[0m\u001b[1;33m\u001b[0m\u001b[0m\n\u001b[1;32m---> 80\u001b[1;33m         \u001b[0mbmuCoord\u001b[0m \u001b[1;33m=\u001b[0m \u001b[0mself\u001b[0m\u001b[1;33m.\u001b[0m\u001b[0mfindBMU\u001b[0m\u001b[1;33m(\u001b[0m\u001b[0mpoint\u001b[0m\u001b[1;33m)\u001b[0m\u001b[1;33m\u001b[0m\u001b[0m\n\u001b[0m\u001b[0;32m     81\u001b[0m         \u001b[0mself\u001b[0m\u001b[1;33m.\u001b[0m\u001b[0madaptNeighbours\u001b[0m\u001b[1;33m(\u001b[0m\u001b[0mbmuCoord\u001b[0m\u001b[1;33m,\u001b[0m \u001b[0mpoint\u001b[0m\u001b[1;33m,\u001b[0m \u001b[0mlabel\u001b[0m\u001b[1;33m,\u001b[0m \u001b[0miteration\u001b[0m\u001b[1;33m)\u001b[0m\u001b[1;33m\u001b[0m\u001b[0m\n\u001b[0;32m     82\u001b[0m \u001b[1;33m\u001b[0m\u001b[0m\n",
      "\u001b[1;32m<ipython-input-231-caae8293f26c>\u001b[0m in \u001b[0;36mfindBMU\u001b[1;34m(self, point)\u001b[0m\n\u001b[0;32m     41\u001b[0m         \u001b[1;32mfor\u001b[0m \u001b[0mx\u001b[0m \u001b[1;32min\u001b[0m \u001b[0mrange\u001b[0m\u001b[1;33m(\u001b[0m\u001b[0mlen\u001b[0m\u001b[1;33m(\u001b[0m\u001b[0mself\u001b[0m\u001b[1;33m.\u001b[0m\u001b[0mneurons\u001b[0m\u001b[1;33m)\u001b[0m\u001b[1;33m)\u001b[0m\u001b[1;33m:\u001b[0m\u001b[1;33m\u001b[0m\u001b[0m\n\u001b[0;32m     42\u001b[0m             \u001b[1;32mfor\u001b[0m \u001b[0my\u001b[0m \u001b[1;32min\u001b[0m \u001b[0mrange\u001b[0m\u001b[1;33m(\u001b[0m\u001b[0mlen\u001b[0m\u001b[1;33m(\u001b[0m\u001b[0mself\u001b[0m\u001b[1;33m.\u001b[0m\u001b[0mneurons\u001b[0m\u001b[1;33m[\u001b[0m\u001b[1;36m0\u001b[0m\u001b[1;33m]\u001b[0m\u001b[1;33m)\u001b[0m\u001b[1;33m)\u001b[0m\u001b[1;33m:\u001b[0m\u001b[1;33m\u001b[0m\u001b[0m\n\u001b[1;32m---> 43\u001b[1;33m                 \u001b[0mdist\u001b[0m \u001b[1;33m=\u001b[0m \u001b[0mself\u001b[0m\u001b[1;33m.\u001b[0m\u001b[0mcalculateVectorDistance\u001b[0m\u001b[1;33m(\u001b[0m\u001b[0mpoint\u001b[0m\u001b[1;33m,\u001b[0m \u001b[0mself\u001b[0m\u001b[1;33m.\u001b[0m\u001b[0mneurons\u001b[0m\u001b[1;33m[\u001b[0m\u001b[0mx\u001b[0m\u001b[1;33m]\u001b[0m\u001b[1;33m[\u001b[0m\u001b[0my\u001b[0m\u001b[1;33m]\u001b[0m\u001b[1;33m)\u001b[0m\u001b[1;33m\u001b[0m\u001b[0m\n\u001b[0m\u001b[0;32m     44\u001b[0m                 \u001b[1;32mif\u001b[0m\u001b[1;33m(\u001b[0m\u001b[0mdist\u001b[0m \u001b[1;33m<\u001b[0m \u001b[0mbestDist\u001b[0m\u001b[1;33m)\u001b[0m\u001b[1;33m:\u001b[0m\u001b[1;33m\u001b[0m\u001b[0m\n\u001b[0;32m     45\u001b[0m                     \u001b[0mbestDist\u001b[0m \u001b[1;33m=\u001b[0m \u001b[0mdist\u001b[0m\u001b[1;33m\u001b[0m\u001b[0m\n",
      "\u001b[1;32m<ipython-input-231-caae8293f26c>\u001b[0m in \u001b[0;36mcalculateVectorDistance\u001b[1;34m(self, v1, v2)\u001b[0m\n\u001b[0;32m     33\u001b[0m \u001b[1;33m\u001b[0m\u001b[0m\n\u001b[0;32m     34\u001b[0m     \u001b[1;32mdef\u001b[0m \u001b[0mcalculateVectorDistance\u001b[0m\u001b[1;33m(\u001b[0m\u001b[0mself\u001b[0m\u001b[1;33m,\u001b[0m \u001b[0mv1\u001b[0m\u001b[1;33m,\u001b[0m \u001b[0mv2\u001b[0m\u001b[1;33m)\u001b[0m\u001b[1;33m:\u001b[0m\u001b[1;33m\u001b[0m\u001b[0m\n\u001b[1;32m---> 35\u001b[1;33m         \u001b[1;32mreturn\u001b[0m \u001b[0mnumpy\u001b[0m\u001b[1;33m.\u001b[0m\u001b[0mlinalg\u001b[0m\u001b[1;33m.\u001b[0m\u001b[0mnorm\u001b[0m\u001b[1;33m(\u001b[0m\u001b[0mnp\u001b[0m\u001b[1;33m.\u001b[0m\u001b[0marray\u001b[0m\u001b[1;33m(\u001b[0m\u001b[0mv1\u001b[0m\u001b[1;33m)\u001b[0m\u001b[1;33m-\u001b[0m\u001b[0mnp\u001b[0m\u001b[1;33m.\u001b[0m\u001b[0marray\u001b[0m\u001b[1;33m(\u001b[0m\u001b[0mv2\u001b[0m\u001b[1;33m)\u001b[0m\u001b[1;33m)\u001b[0m\u001b[1;33m\u001b[0m\u001b[0m\n\u001b[0m\u001b[0;32m     36\u001b[0m \u001b[1;33m\u001b[0m\u001b[0m\n\u001b[0;32m     37\u001b[0m     \u001b[1;32mdef\u001b[0m \u001b[0mfindBMU\u001b[0m\u001b[1;33m(\u001b[0m\u001b[0mself\u001b[0m\u001b[1;33m,\u001b[0m \u001b[0mpoint\u001b[0m\u001b[1;33m)\u001b[0m\u001b[1;33m:\u001b[0m\u001b[1;33m\u001b[0m\u001b[0m\n",
      "\u001b[1;31mNameError\u001b[0m: name 'numpy' is not defined"
     ]
    }
   ],
   "source": [
    "trainData = data.toPixelsArray(\"xi\")\n",
    "trainLabels = data.toPixelsArray(\"lx\")\n",
    "data.fit(trainData, trainLabels)"
   ]
  },
  {
   "cell_type": "code",
   "execution_count": 216,
   "metadata": {},
   "outputs": [
    {
     "name": "stdout",
     "output_type": "stream",
     "text": [
      "Hier die klassifizierte Karte visualisiert:\n"
     ]
    },
    {
     "data": {
      "image/png": "[encoded data removed]",
      "text/plain": [
       "<matplotlib.figure.Figure at 0x2473bb835c0>"
      ]
     },
     "metadata": {},
     "output_type": "display_data"
    }
   ],
   "source": [
    "import matplotlib.pyplot as plt\n",
    "from matplotlib.colors import ListedColormap\n",
    "cmap = ListedColormap(datadict[\"cm\"].T)\n",
    "\n",
    "plt.matshow(data.getLabels(), cmap=cmap)\n",
    "print(\"Hier die klassifizierte Karte visualisiert:\")\n",
    "plt.show()"
   ]
  },
  {
   "cell_type": "code",
   "execution_count": 217,
   "metadata": {
    "collapsed": true
   },
   "outputs": [
    {
     "name": "stdout",
     "output_type": "stream",
     "text": [
      "Prediction 0 finished\n",
      "Prediction 10 finished\n",
      "Prediction 20 finished\n",
      "Prediction 30 finished\n",
      "Prediction 40 finished\n",
      "Prediction 50 finished\n",
      "Prediction 60 finished\n",
      "Prediction 70 finished\n",
      "Prediction 80 finished\n",
      "Prediction 90 finished\n",
      "Prediction 100 finished\n",
      "Prediction 110 finished\n",
      "Prediction 120 finished\n",
      "Prediction 130 finished\n",
      "Prediction 140 finished\n",
      "Prediction 150 finished\n",
      "Prediction 160 finished\n",
      "Prediction 170 finished\n",
      "Prediction 180 finished\n",
      "Prediction 190 finished\n",
      "Prediction 200 finished\n",
      "Prediction 210 finished\n",
      "Prediction 220 finished\n",
      "Prediction 230 finished\n",
      "Prediction 240 finished\n",
      "Prediction 250 finished\n",
      "Prediction 260 finished\n",
      "Prediction 270 finished\n",
      "Prediction 280 finished\n",
      "Prediction 290 finished\n",
      "Prediction 300 finished\n",
      "Prediction 310 finished\n",
      "Prediction 320 finished\n",
      "Prediction 330 finished\n",
      "Prediction 340 finished\n",
      "Prediction 350 finished\n",
      "Prediction 360 finished\n",
      "Prediction 370 finished\n",
      "Prediction 380 finished\n",
      "Prediction 390 finished\n",
      "Prediction 400 finished\n",
      "Prediction 410 finished\n",
      "Prediction 420 finished\n",
      "Prediction 430 finished\n",
      "Prediction 440 finished\n",
      "Prediction 450 finished\n",
      "Prediction 460 finished\n",
      "Prediction 470 finished\n",
      "Prediction 480 finished\n",
      "Prediction 490 finished\n",
      "Prediction 500 finished\n",
      "Prediction 510 finished\n",
      "Prediction 520 finished\n",
      "Prediction 530 finished\n",
      "Prediction 540 finished\n",
      "Prediction 550 finished\n",
      "Prediction 560 finished\n",
      "Prediction 570 finished\n",
      "Prediction 580 finished\n",
      "Prediction 590 finished\n",
      "Prediction 600 finished\n",
      "Prediction 610 finished\n",
      "Prediction 620 finished\n",
      "Prediction 630 finished\n",
      "Prediction 640 finished\n",
      "Prediction 650 finished\n",
      "Prediction 660 finished\n",
      "Prediction 670 finished\n",
      "Prediction 680 finished\n",
      "Prediction 690 finished\n",
      "Prediction 700 finished\n",
      "Prediction 710 finished\n",
      "Prediction 720 finished\n",
      "Prediction 730 finished\n",
      "Prediction 740 finished\n",
      "Prediction 750 finished\n",
      "Prediction 760 finished\n",
      "Prediction 770 finished\n",
      "Prediction 780 finished\n",
      "Prediction 790 finished\n",
      "Prediction 800 finished\n",
      "Prediction 810 finished\n",
      "Prediction 820 finished\n",
      "Prediction 830 finished\n",
      "Prediction 840 finished\n",
      "Prediction 850 finished\n",
      "Prediction 860 finished\n",
      "Prediction 870 finished\n",
      "Prediction 880 finished\n",
      "Prediction 890 finished\n",
      "Prediction 900 finished\n",
      "Prediction 910 finished\n",
      "Prediction 920 finished\n",
      "Prediction 930 finished\n",
      "Prediction 940 finished\n",
      "Prediction 950 finished\n",
      "Prediction 960 finished\n",
      "Prediction 970 finished\n",
      "Prediction 980 finished\n",
      "Prediction 990 finished\n",
      "Prediction 1000 finished\n",
      "Prediction 1010 finished\n",
      "Prediction 1020 finished\n",
      "Prediction 1030 finished\n",
      "Prediction 1040 finished\n",
      "Prediction 1050 finished\n",
      "Prediction 1060 finished\n",
      "Prediction 1070 finished\n",
      "Prediction 1080 finished\n",
      "Prediction 1090 finished\n",
      "Prediction 1100 finished\n",
      "Prediction 1110 finished\n",
      "Prediction 1120 finished\n",
      "[1, 1, 1, 1, 1, 1, 1, 1, 1, 1, 1, 1, 1, 1, 1, 1, 1, 1, 1, 1, 1, 1, 1, 1, 1, 1, 1, 1, 1, 1, 1, 1, 1, 1, 1, 1, 1, 1, 1, 1, 1, 1, 1, 1, 1, 1, 1, 1, 1, 1, 1, 1, 1, 1, 1, 1, 1, 1, 1, 1, 2, 2, 2, 3, 2, 2, 2, 2, 2, 2, 2, 2, 3, 2, 2, 3, 2, 2, 2, 2, 2, 2, 2, 2, 2, 2, 3, 2, 2, 2, 2, 2, 2, 2, 2, 3, 3, 2, 3, 2, 3, 2, 2, 2, 3, 2, 2, 2, 2, 2, 2, 2, 2, 2, 2, 2, 2, 2, 3, 2, 2, 3, 3, 3, 3, 3, 2, 2, 3, 2, 3, 2, 3, 2, 2, 2, 2, 3, 3, 2, 2, 3, 3, 2, 3, 3, 2, 3, 3, 3, 3, 3, 3, 3, 3, 3, 2, 3, 3, 2, 3, 3, 2, 3, 3, 3, 3, 3, 3, 2, 3, 3, 3, 2, 3, 3, 3, 2, 3, 2, 4, 4, 4, 4, 4, 4, 4, 4, 4, 4, 4, 4, 4, 4, 4, 4, 4, 4, 4, 4, 4, 4, 4, 4, 4, 4, 4, 4, 4, 4, 4, 4, 4, 4, 4, 4, 4, 4, 4, 4, 4, 4, 4, 4, 4, 4, 4, 4, 4, 4, 4, 4, 4, 4, 4, 4, 4, 4, 4, 4, 5, 5, 5, 5, 5, 1, 5, 5, 5, 5, 5, 5, 5, 1, 5, 5, 5, 5, 5, 5, 5, 5, 5, 5, 5, 5, 5, 5, 5, 5, 5, 1, 5, 5, 5, 5, 5, 5, 5, 5, 5, 5, 5, 5, 5, 5, 5, 5, 5, 1, 5, 5, 5, 5, 1, 5, 5, 5, 5, 5, 6, 6, 6, 8, 6, 6, 8, 6, 7, 6, 6, 6, 6, 6, 7, 6, 6, 8, 6, 6, 6, 7, 6, 6, 6, 8, 6, 6, 6, 8, 6, 6, 8, 6, 6, 8, 6, 15, 7, 6, 6, 6, 6, 6, 6, 9, 6, 17, 8, 6, 8, 19, 7, 6, 6, 6, 6, 15, 8, 6, 7, 7, 19, 7, 7, 6, 7, 7, 7, 6, 6, 6, 7, 7, 7, 7, 7, 19, 7, 12, 6, 7, 7, 7, 7, 7, 6, 7, 6, 7, 7, 7, 7, 6, 19, 7, 19, 7, 6, 7, 7, 7, 6, 7, 7, 7, 7, 7, 6, 7, 7, 6, 7, 7, 6, 7, 6, 7, 7, 7, 8, 6, 8, 6, 6, 6, 6, 6, 6, 6, 6, 6, 6, 6, 8, 6, 8, 6, 6, 6, 6, 6, 6, 8, 6, 6, 6, 6, 8, 6, 6, 6, 6, 8, 6, 6, 6, 6, 6, 6, 8, 8, 8, 6, 6, 6, 6, 6, 6, 6, 8, 6, 8, 6, 6, 8, 6, 6, 6, 6, 9, 9, 9, 9, 9, 9, 9, 9, 9, 9, 9, 9, 9, 9, 9, 9, 9, 9, 9, 13, 9, 9, 9, 9, 11, 9, 9, 9, 9, 9, 9, 11, 9, 9, 9, 9, 9, 9, 9, 9, 9, 17, 11, 9, 9, 9, 11, 9, 11, 9, 9, 9, 9, 9, 9, 9, 11, 9, 13, 9, 12, 11, 10, 12, 12, 11, 11, 10, 10, 10, 10, 10, 10, 10, 12, 12, 11, 10, 10, 10, 10, 10, 10, 10, 10, 11, 10, 11, 10, 10, 10, 10, 12, 10, 12, 12, 12, 10, 10, 10, 10, 11, 10, 11, 10, 10, 10, 10, 11, 12, 12, 19, 12, 10, 10, 10, 10, 10, 10, 10, 11, 11, 11, 11, 10, 11, 11, 11, 11, 11, 11, 11, 11, 11, 11, 11, 11, 11, 11, 11, 11, 11, 11, 11, 10, 11, 11, 11, 11, 11, 11, 11, 11, 11, 11, 11, 11, 11, 11, 11, 11, 11, 11, 11, 11, 11, 11, 11, 11, 11, 11, 11, 11, 11, 11, 11, 11, 11, 11, 11, 11, 10, 12, 10, 12, 12, 10, 12, 12, 19, 19, 10, 19, 10, 12, 20, 11, 12, 10, 12, 10, 12, 11, 20, 6, 10, 11, 12, 11, 10, 11, 10, 10, 12, 10, 12, 12, 10, 12, 10, 12, 12, 12, 11, 10, 10, 10, 12, 10, 12, 12, 12, 12, 11, 10, 12, 10, 19, 12, 12, 13, 14, 13, 13, 13, 18, 9, 18, 13, 13, 18, 13, 13, 9, 9, 13, 13, 13, 18, 18, 18, 13, 13, 13, 13, 18, 13, 9, 18, 13, 13, 13, 13, 13, 13, 13, 17, 9, 13, 13, 13, 18, 9, 9, 13, 13, 13, 9, 13, 13, 18, 13, 13, 13, 18, 13, 14, 13, 13, 18, 13, 13, 13, 13, 13, 13, 13, 13, 13, 13, 13, 13, 13, 13, 13, 13, 13, 13, 13, 14, 13, 13, 13, 13, 13, 13, 13, 13, 13, 13, 13, 13, 13, 13, 13, 13, 13, 13, 13, 13, 13, 13, 13, 14, 13, 13, 13, 13, 18, 13, 13, 13, 13, 13, 13, 18, 13, 13, 13, 13, 15, 15, 15, 16, 15, 16, 16, 15, 16, 15, 19, 15, 19, 16, 15, 16, 16, 16, 15, 15, 15, 15, 15, 16, 16, 15, 16, 15, 15, 15, 19, 16, 15, 16, 15, 16, 19, 16, 19, 15, 15, 15, 15, 16, 15, 16, 15, 19, 15, 16, 15, 15, 16, 15, 16, 15, 15, 15, 15, 16, 16, 16, 15, 16, 16, 16, 16, 16, 16, 19, 15, 16, 16, 16, 16, 15, 16, 16, 16, 15, 16, 15, 16, 16, 16, 15, 16, 15, 16, 16, 16, 15, 16, 15, 16, 16, 15, 16, 16, 15, 15, 16, 15, 16, 16, 15, 15, 16, 15, 16, 16, 15, 16, 16, 16, 16, 16, 16, 15, 16, 17, 17, 17, 17, 17, 17, 17, 17, 17, 17, 17, 17, 17, 17, 17, 17, 17, 17, 17, 17, 17, 17, 17, 17, 17, 17, 17, 17, 17, 17, 17, 17, 17, 17, 17, 17, 17, 17, 17, 17, 17, 17, 17, 17, 17, 17, 17, 17, 17, 17, 17, 17, 17, 17, 17, 17, 17, 17, 17, 17, 18, 18, 18, 18, 18, 18, 18, 18, 18, 18, 18, 18, 18, 18, 18, 18, 18, 18, 13, 13, 18, 18, 18, 18, 11, 18, 18, 9, 18, 18, 18, 18, 18, 18, 18, 18, 18, 18, 18, 18, 13, 18, 18, 18, 18, 18, 14, 18, 19, 19, 19, 19, 19, 19, 19, 19, 19, 19, 19, 19, 19, 19, 19, 19, 19, 19, 19, 19, 19, 19, 19, 19, 19, 19, 19, 19, 16, 19, 19, 19, 19, 19, 19, 19, 19, 19, 19, 19, 19, 19, 11, 11, 11, 11, 11, 20, 20, 20, 11, 20, 20, 11, 11, 11]\n"
     ]
    }
   ],
   "source": [
    "from sklearn.metrics import accuracy_score\n",
    "\n",
    "prediction = data.predict(data.toPixelsArray(\"yi\"))"
   ]
  },
  {
   "cell_type": "code",
   "execution_count": 226,
   "metadata": {},
   "outputs": [
    {
     "name": "stdout",
     "output_type": "stream",
     "text": [
      "0.70462633452\n"
     ]
    }
   ],
   "source": [
    "print(accuracy_score(datadict[\"ly\"][0], prediction))"
   ]
  },
  {
   "cell_type": "code",
   "execution_count": 230,
   "metadata": {},
   "outputs": [
    {
     "data": {
      "text/plain": [
       "array([0, 0, 0, 0, 0])"
      ]
     },
     "execution_count": 230,
     "metadata": {},
     "output_type": "execute_result"
    }
   ],
   "source": [
    "np.array([1, 2, 3, 4, 5]) - np.array([1, 2, 3, 4, 5])"
   ]
  }
 ],
 "metadata": {
  "kernelspec": {
   "display_name": "Python 3",
   "language": "python",
   "name": "python3"
  },
  "language_info": {
   "codemirror_mode": {
    "name": "ipython",
    "version": 3
   },
   "file_extension": ".py",
   "mimetype": "text/x-python",
   "name": "python",
   "nbconvert_exporter": "python",
   "pygments_lexer": "ipython3",
   "version": "3.6.3"
  }
 },
 "nbformat": 4,
 "nbformat_minor": 2
}
