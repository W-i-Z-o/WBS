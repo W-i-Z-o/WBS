{
 "cells": [
  {
   "cell_type": "code",
   "execution_count": 1,
   "metadata": {
    "collapsed": true
   },
   "outputs": [],
   "source": [
    "import numpy as np\n",
    "import h5py\n",
    "import pandas as pd\n",
    "\n",
    "datadict = {}\n",
    "with h5py.File(\"EnMAP_Contest_Data.mat\", 'r') as f:\n",
    "    for k, v in f.items():\n",
    "        datadict[k] = np.array(v)"
   ]
  },
  {
   "cell_type": "code",
   "execution_count": 176,
   "metadata": {},
   "outputs": [],
   "source": [
    "import numpy as np\n",
    "import math\n",
    "\n",
    "class MySOM:\n",
    "    def __init__(self, datadict, label, nRows, nColumns, iteration, radius, learnrate):\n",
    "        #init here\n",
    "        self.datadict = datadict\n",
    "        self.label = label\n",
    "        self.nRows = nRows\n",
    "        self.nColumns = nColumns\n",
    "        self.radius_max = radius\n",
    "        self.iteration_max = iteration - 1\n",
    "        self.learnrate_max = learnrate\n",
    "\n",
    "    def __str__(self):\n",
    "        #toString()\n",
    "        return \"label: {0}, dimension: ({1} {2})\".format(self.label, self.nRows, self.nColumns)\n",
    "\n",
    "    def initializeNeurons(self):\n",
    "        self.neurons = np.random.uniform(size=(self.nColumns, self.nRows, 244))\n",
    "        self.labels = np.empty((self.nColumns, self.nRows), dtype=int)\n",
    "        for i in range(len(self.labels)):\n",
    "            for j in range(len(self.labels[0])):\n",
    "                self.labels[i][j] = -1\n",
    "        \n",
    "        \n",
    "    def toPixelsArray(self, field):\n",
    "        pixels = []\n",
    "        for i in range(len(self.datadict[field][0])):\n",
    "            features = [row[i] for row in datadict[field]]\n",
    "            pixels.append(features)\n",
    "        return pixels\n",
    "    \n",
    "    def calculateVectorDistance(self, v1, v2):\n",
    "        sum = 0\n",
    "        for i in range(len(v1)):\n",
    "            sum = sum + (v1[i] - v2[i]) ** 2\n",
    "        return math.sqrt(sum)\n",
    "    \n",
    "    def findBMU(self, point):\n",
    "        bestX = 0\n",
    "        bestY = 0\n",
    "        bestDist = 10000000\n",
    "        for x in range(len(self.neurons)):\n",
    "            for y in range(len(self.neurons[0])):\n",
    "                dist = self.calculateVectorDistance(point, self.neurons[x][y])\n",
    "                if(dist < bestDist):\n",
    "                    bestDist = dist\n",
    "                    bestX = x\n",
    "                    bestY = y\n",
    "        return [bestX, bestY]\n",
    "    \n",
    "    def adaptNeighbours(self, bmuCoord, point, label, iteration):\n",
    "        radius = self.radius_max * (1 - (iteration/self.iteration_max))\n",
    "        for i in range(int(radius)):\n",
    "            height = int(math.sqrt(radius**2 - i**2))\n",
    "            for j in range(height):\n",
    "                self.adaptNeuron(bmuCoord, [i + bmuCoord[0], j + bmuCoord[1]], point, label, iteration)\n",
    "                if i!=0:\n",
    "                    self.adaptNeuron(bmuCoord, [-i + bmuCoord[0], j + bmuCoord[1]], point, label, iteration)\n",
    "                if j!=0:\n",
    "                    self.adaptNeuron(bmuCoord, [i + bmuCoord[0], -j + bmuCoord[1]], point, label, iteration)\n",
    "                if i!=0 and j!=0:\n",
    "                    self.adaptNeuron(bmuCoord, [-i + bmuCoord[0], -j + bmuCoord[1]], point, label, iteration)\n",
    "            \n",
    "        \n",
    "    def adaptNeuron(self, bmuCoord, neuronCoord, point, label, iteration):\n",
    "        if neuronCoord[0]>=0 and neuronCoord[0] < self.nRows and neuronCoord[1]>=0 and neuronCoord[1] < self.nColumns:\n",
    "            neuron = self.neurons[neuronCoord[0]][neuronCoord[1]]\n",
    "            learnrate = self.learnrate_max * (1 - (iteration/self.iteration_max))\n",
    "            radius = self.radius_max * (1 - (iteration/self.iteration_max))\n",
    "            zaehler = self.calculateVectorDistance(bmuCoord, neuronCoord)**2\n",
    "            nenner = 2 * radius**2\n",
    "            neighbour = np.exp(-(zaehler/nenner))\n",
    "            #print(label)\n",
    "            #print(neuronCoord)\n",
    "            self.labels[neuronCoord[0]][neuronCoord[1]] = label\n",
    "        \n",
    "            for i in range(len(neuron)):\n",
    "                neuron[i] = neuron[i] + learnrate * neighbour * (point[i] - neuron[i])\n",
    "    \n",
    "    def learnPoint(self, point, label, iteration):\n",
    "        bmuCoord = self.findBMU(point)\n",
    "        self.adaptNeighbours(bmuCoord, point, label, iteration)\n",
    "        \n",
    "    def fit(self, data, labels):\n",
    "        for i in range(self.iteration_max):\n",
    "            rand = np.random.randint(len(data))\n",
    "            point = data[rand]\n",
    "            label = labels[rand][0]\n",
    "            self.learnPoint(point, label, i)\n",
    "            \n",
    "    def getLabels(self):\n",
    "        return self.labels"
   ]
  },
  {
   "cell_type": "code",
   "execution_count": 177,
   "metadata": {
    "scrolled": false
   },
   "outputs": [],
   "source": [
    "data = MySOM(datadict, \"\", 50, 50, 10, 10, 1)\n",
    "data.initializeNeurons()"
   ]
  },
  {
   "cell_type": "code",
   "execution_count": 178,
   "metadata": {},
   "outputs": [],
   "source": [
    "trainData = data.toPixelsArray(\"xi\")\n",
    "trainLabels = data.toPixelsArray(\"lx\")\n",
    "data.fit(trainData, trainLabels)"
   ]
  },
  {
   "cell_type": "code",
   "execution_count": 179,
   "metadata": {},
   "outputs": [
    {
     "name": "stdout",
     "output_type": "stream",
     "text": [
      "Hier die klassifizierte Karte visualisiert:\n"
     ]
    },
    {
     "data": {
      "image/png": "[encoded data removed]",
      "text/plain": [
       "<matplotlib.figure.Figure at 0x2473cf73400>"
      ]
     },
     "metadata": {},
     "output_type": "display_data"
    }
   ],
   "source": [
    "import matplotlib.pyplot as plt\n",
    "from matplotlib.colors import ListedColormap\n",
    "cmap = ListedColormap(datadict[\"cm\"].T)\n",
    "\n",
    "plt.matshow(data.getLabels(), cmap=cmap)\n",
    "print(\"Hier die klassifizierte Karte visualisiert:\")\n",
    "plt.show()"
   ]
  }
 ],
 "metadata": {
  "kernelspec": {
   "display_name": "Python 3",
   "language": "python",
   "name": "python3"
  },
  "language_info": {
   "codemirror_mode": {
    "name": "ipython",
    "version": 3
   },
   "file_extension": ".py",
   "mimetype": "text/x-python",
   "name": "python",
   "nbconvert_exporter": "python",
   "pygments_lexer": "ipython3",
   "version": "3.6.3"
  }
 },
 "nbformat": 4,
 "nbformat_minor": 2
}
