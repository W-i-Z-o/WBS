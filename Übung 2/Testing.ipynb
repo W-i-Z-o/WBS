{
 "cells": [
  {
   "cell_type": "code",
   "execution_count": 1,
   "metadata": {},
   "outputs": [],
   "source": [
    "import numpy as np\n",
    "import h5py\n",
    "import pandas as pd\n",
    "\n",
    "datadict = {}\n",
    "with h5py.File(\"EnMAP_Contest_Data.mat\", 'r') as f:\n",
    "    for k, v in f.items():\n",
    "        datadict[k] = np.array(v)"
   ]
  },
  {
   "cell_type": "code",
   "execution_count": 28,
   "metadata": {},
   "outputs": [],
   "source": [
    "import numpy as np\n",
    "\n",
    "class MySOM:\n",
    "    def __init__(self, datadict, label, nRows, nColumns):\n",
    "        #init here\n",
    "        self.datadict = datadict\n",
    "        self.label = label\n",
    "        self.nRows = nRows\n",
    "        self.nColumns = nColumns\n",
    "\n",
    "    def __str__(self):\n",
    "        #toString()\n",
    "        return \"label: {0}, dimension: ({1} {2})\".format(self.label, self.nRows, self.nColumns)\n",
    "\n",
    "    def initializeNeurons(self):\n",
    "        self.neurons = np.random.uniform(size=(self.nColumns, self.nRows, 244))\n",
    "        \n",
    "    def toPixelsArray(self, field):\n",
    "        pixels = []\n",
    "        for i in range(len(self.datadict[field][0])):\n",
    "            features = [row[i] for row in datadict[field]]\n",
    "            pixels.append(features)\n",
    "        return pixels"
   ]
  },
  {
   "cell_type": "code",
   "execution_count": 32,
   "metadata": {
    "scrolled": false
   },
   "outputs": [],
   "source": [
    "data = MySOM(datadict, \"\", 100, 100)\n",
    "data.initializeNeurons()"
   ]
  },
  {
   "cell_type": "code",
   "execution_count": null,
   "metadata": {},
   "outputs": [],
   "source": []
  }
 ],
 "metadata": {
  "kernelspec": {
   "display_name": "Python 3",
   "language": "python",
   "name": "python3"
  },
  "language_info": {
   "codemirror_mode": {
    "name": "ipython",
    "version": 3
   },
   "file_extension": ".py",
   "mimetype": "text/x-python",
   "name": "python",
   "nbconvert_exporter": "python",
   "pygments_lexer": "ipython3",
   "version": "3.6.3"
  }
 },
 "nbformat": 4,
 "nbformat_minor": 2
}
